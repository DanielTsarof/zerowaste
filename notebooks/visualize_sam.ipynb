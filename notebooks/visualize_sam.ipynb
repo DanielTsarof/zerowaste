{
  "nbformat": 4,
  "nbformat_minor": 0,
  "metadata": {
    "colab": {
      "provenance": []
    },
    "kernelspec": {
      "name": "python3",
      "display_name": "Python 3"
    },
    "language_info": {
      "name": "python"
    }
  },
  "cells": [
    {
      "cell_type": "code",
      "execution_count": null,
      "metadata": {
        "collapsed": true,
        "id": "esqatzegi0Om"
      },
      "outputs": [],
      "source": [
        "# Install required dependencies and clone SAM2 repository\n",
        "!pip install git+https://github.com/facebookresearch/sam2.git\n",
        "\n",
        "# Download SAM2 model checkpoint\n",
        "!mkdir -p ../checkpoints/\n",
        "!wget -P ../checkpoints/ https://dl.fbaipublicfiles.com/segment_anything_2/092824/sam2.1_hiera_small.pt\n",
        "\n",
        "import torch\n",
        "import numpy as np\n",
        "from PIL import Image\n",
        "import matplotlib.pyplot as plt\n",
        "from sam2.build_sam import build_sam2\n",
        "from sam2.automatic_mask_generator import SAM2AutomaticMaskGenerator"
      ]
    },
    {
      "cell_type": "code",
      "source": [
        "# Define SAM2 model and checkpoint\n",
        "sam2_checkpoint = \"../checkpoints/sam2.1_hiera_small.pt\"\n",
        "model_cfg = \"sam2/configs/sam2.1/sam2.1_hiera_s.yaml\"\n",
        "\n",
        "# Load the SAM2 model\n",
        "device = \"cuda\" if torch.cuda.is_available() else \"cpu\"\n",
        "sam2_model = build_sam2(model_cfg, sam2_checkpoint, device=device, apply_postprocessing=False)\n",
        "\n",
        "# Initialize the automatic mask generator\n",
        "mask_generator = SAM2AutomaticMaskGenerator(\n",
        "    model=sam2_model,\n",
        "    points_per_side=64,\n",
        "    points_per_batch=128,\n",
        "    pred_iou_thresh=0.7,\n",
        "    stability_score_thresh=0.92,\n",
        "    stability_score_offset=0.7,\n",
        "    crop_n_layers=1,\n",
        "    box_nms_thresh=0.7,\n",
        "    crop_n_points_downscale_factor=2,\n",
        "    min_mask_region_area=25.0,\n",
        "    use_m2m=True,\n",
        ")\n"
      ],
      "metadata": {
        "id": "LqpPu1Jji3Te"
      },
      "execution_count": null,
      "outputs": []
    },
    {
      "cell_type": "code",
      "source": [
        "# Define the function to display segmentation masks\n",
        "def show_anns(anns, borders=True):\n",
        "    if len(anns) == 0:\n",
        "        return\n",
        "    sorted_anns = sorted(anns, key=lambda x: x['area'], reverse=True)\n",
        "    ax = plt.gca()\n",
        "    ax.set_autoscale_on(False)\n",
        "\n",
        "    img = np.ones((sorted_anns[0]['segmentation'].shape[0], sorted_anns[0]['segmentation'].shape[1], 4))\n",
        "    img[:, :, 3] = 0\n",
        "    for ann in sorted_anns:\n",
        "        m = ann['segmentation']\n",
        "        color_mask = np.concatenate([np.random.random(3), [0.5]])\n",
        "        img[m] = color_mask\n",
        "        if borders:\n",
        "            import cv2\n",
        "            contours, _ = cv2.findContours(m.astype(np.uint8), cv2.RETR_EXTERNAL, cv2.CHAIN_APPROX_NONE)\n",
        "            cv2.drawContours(img, contours, -1, (0, 0, 1, 0.4), thickness=1)\n",
        "\n",
        "    ax.imshow(img)\n"
      ],
      "metadata": {
        "id": "FJJla2t7jgQh"
      },
      "execution_count": null,
      "outputs": []
    },
    {
      "cell_type": "code",
      "source": [
        "# Load an example image\n",
        "image_path = '/content/splits_final_deblurred/train/data/04_frame_036100.PNG'\n",
        "image = Image.open(image_path).convert(\"RGB\")\n",
        "image_np = np.array(image)\n",
        "\n",
        "# Generate masks using SAM2\n",
        "with torch.no_grad():\n",
        "    masks = mask_generator.generate(image_np)\n",
        "\n",
        "# Visualize the generated masks\n",
        "plt.figure(figsize=(12, 12))\n",
        "plt.imshow(image_np)\n",
        "show_anns(masks)\n",
        "plt.axis('off')\n",
        "plt.show()\n"
      ],
      "metadata": {
        "id": "PHJr-63YjiOJ"
      },
      "execution_count": null,
      "outputs": []
    }
  ]
}